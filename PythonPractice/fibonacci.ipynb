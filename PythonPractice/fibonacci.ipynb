{
 "cells": [
  {
   "cell_type": "code",
   "execution_count": 1,
   "id": "743916ca",
   "metadata": {},
   "outputs": [],
   "source": [
    "def fib(n):\n",
    "    \n",
    "    if n == 0:\n",
    "        return 0\n",
    "    elif n == 1:\n",
    "        return 1\n",
    "    else:\n",
    "        return fib(n-1) + fib(n-2)   "
   ]
  },
  {
   "cell_type": "code",
   "execution_count": 2,
   "id": "a720a145",
   "metadata": {},
   "outputs": [
    {
     "data": {
      "text/plain": [
       "float"
      ]
     },
     "execution_count": 2,
     "metadata": {},
     "output_type": "execute_result"
    }
   ],
   "source": [
    "x = 4.34\n",
    "type(x)"
   ]
  },
  {
   "cell_type": "code",
   "execution_count": 3,
   "id": "e138bd9b",
   "metadata": {},
   "outputs": [],
   "source": [
    "x = \"5\""
   ]
  },
  {
   "cell_type": "code",
   "execution_count": 4,
   "id": "ecf59f89",
   "metadata": {},
   "outputs": [
    {
     "data": {
      "text/plain": [
       "str"
      ]
     },
     "execution_count": 4,
     "metadata": {},
     "output_type": "execute_result"
    }
   ],
   "source": [
    "type(x)"
   ]
  },
  {
   "cell_type": "code",
   "execution_count": 5,
   "id": "048158c3",
   "metadata": {
    "scrolled": true
   },
   "outputs": [
    {
     "data": {
      "text/plain": [
       "function"
      ]
     },
     "execution_count": 5,
     "metadata": {},
     "output_type": "execute_result"
    }
   ],
   "source": [
    "type(fib)"
   ]
  },
  {
   "cell_type": "code",
   "execution_count": null,
   "id": "ebfee434",
   "metadata": {},
   "outputs": [],
   "source": [
    "# GETTERS AND SETTERS"
   ]
  },
  {
   "cell_type": "code",
   "execution_count": 8,
   "id": "9b306428",
   "metadata": {},
   "outputs": [
    {
     "name": "stdout",
     "output_type": "stream",
     "text": [
      "The model of the car Tesla Model Y!!!\n"
     ]
    }
   ],
   "source": [
    "class Car:\n",
    "    def __init__(self, model = None):\n",
    "        self.model = model\n",
    "    def set_model(self, model):\n",
    "        self.model = model\n",
    "    def get_model(self):\n",
    "        return self.model\n",
    "    def print_model(self):\n",
    "        if self.model:\n",
    "            print(\"The model of the car \" + self.model + \"!!!\")\n",
    "        else:\n",
    "            print(\"Model name not entered\")\n",
    "            \n",
    "x = Car()\n",
    "x.set_model(\"Tesla Model Y\")\n",
    "x.get_model()\n",
    "x.print_model()\n",
    "        "
   ]
  },
  {
   "cell_type": "code",
   "execution_count": 9,
   "id": "fd5b253d",
   "metadata": {},
   "outputs": [],
   "source": [
    "mylist = [1,2,3]"
   ]
  },
  {
   "cell_type": "code",
   "execution_count": 10,
   "id": "fbe12f3c",
   "metadata": {},
   "outputs": [
    {
     "data": {
      "text/plain": [
       "list"
      ]
     },
     "execution_count": 10,
     "metadata": {},
     "output_type": "execute_result"
    }
   ],
   "source": [
    "type(mylist)"
   ]
  },
  {
   "cell_type": "code",
   "execution_count": 57,
   "id": "82f10db6",
   "metadata": {},
   "outputs": [],
   "source": [
    "class Dog():\n",
    "    \n",
    "    #CLASS OBJECT ATTRIBUTE\n",
    "    #SAME FOR ANY INSTANCE, BELONGING TO A CLASS\n",
    "    \n",
    "    species = \"mammal\"\n",
    "    \n",
    "    def __init__(self, breed, name, spots):\n",
    "        \n",
    "        self.breed = breed\n",
    "        self.name = name\n",
    "        self.spots = spots # Expecting a boolean here\n",
    "        \n",
    "    #Method \n",
    "    \n",
    "    def bark(self):\n",
    "        print(\"Bark! My name is {}\".format(self.name))"
   ]
  },
  {
   "cell_type": "code",
   "execution_count": 58,
   "id": "63bcc0db",
   "metadata": {},
   "outputs": [],
   "source": [
    "my_dog = Dog(\"Lab\", \"Choco\", False)"
   ]
  },
  {
   "cell_type": "code",
   "execution_count": 59,
   "id": "4f7d8f36",
   "metadata": {},
   "outputs": [
    {
     "data": {
      "text/plain": [
       "__main__.Dog"
      ]
     },
     "execution_count": 59,
     "metadata": {},
     "output_type": "execute_result"
    }
   ],
   "source": [
    "type(my_dog)"
   ]
  },
  {
   "cell_type": "code",
   "execution_count": 60,
   "id": "713371fe",
   "metadata": {},
   "outputs": [
    {
     "data": {
      "text/plain": [
       "'Choco'"
      ]
     },
     "execution_count": 60,
     "metadata": {},
     "output_type": "execute_result"
    }
   ],
   "source": [
    "my_dog.name"
   ]
  },
  {
   "cell_type": "code",
   "execution_count": 61,
   "id": "626fd917",
   "metadata": {},
   "outputs": [
    {
     "data": {
      "text/plain": [
       "False"
      ]
     },
     "execution_count": 61,
     "metadata": {},
     "output_type": "execute_result"
    }
   ],
   "source": [
    "my_dog.spots"
   ]
  },
  {
   "cell_type": "code",
   "execution_count": 62,
   "id": "0124df95",
   "metadata": {},
   "outputs": [
    {
     "data": {
      "text/plain": [
       "'mammal'"
      ]
     },
     "execution_count": 62,
     "metadata": {},
     "output_type": "execute_result"
    }
   ],
   "source": [
    "my_dog.species"
   ]
  },
  {
   "cell_type": "code",
   "execution_count": 63,
   "id": "03694008",
   "metadata": {},
   "outputs": [
    {
     "name": "stdout",
     "output_type": "stream",
     "text": [
      "Bark! My name is Choco\n"
     ]
    }
   ],
   "source": [
    "my_dog.bark()"
   ]
  },
  {
   "cell_type": "code",
   "execution_count": 14,
   "id": "ce8eb1be",
   "metadata": {},
   "outputs": [],
   "source": [
    "class Circle():\n",
    "    \n",
    "    pi = 3.14\n",
    "    \n",
    "    def __init__(self, radius = 1):\n",
    "        self.radius = radius\n",
    "        self.area = radius*radius*self.pi #or Circle.pi(for class obj attribute)\n",
    "        \n",
    "    def get_circumf(self):\n",
    "        \n",
    "        return self.radius*2*Circle.pi"
   ]
  },
  {
   "cell_type": "code",
   "execution_count": 15,
   "id": "52ffa1b3",
   "metadata": {},
   "outputs": [],
   "source": [
    "c1 = Circle(30)"
   ]
  },
  {
   "cell_type": "code",
   "execution_count": 16,
   "id": "b1444f80",
   "metadata": {},
   "outputs": [
    {
     "data": {
      "text/plain": [
       "188.4"
      ]
     },
     "execution_count": 16,
     "metadata": {},
     "output_type": "execute_result"
    }
   ],
   "source": [
    "c1.get_circumf()"
   ]
  },
  {
   "cell_type": "code",
   "execution_count": 81,
   "id": "60adcfa7",
   "metadata": {},
   "outputs": [],
   "source": [
    "c1.radius = 30"
   ]
  },
  {
   "cell_type": "code",
   "execution_count": 82,
   "id": "aa2651fb",
   "metadata": {},
   "outputs": [
    {
     "data": {
      "text/plain": [
       "188.4"
      ]
     },
     "execution_count": 82,
     "metadata": {},
     "output_type": "execute_result"
    }
   ],
   "source": [
    "c1.get_circumf()"
   ]
  },
  {
   "cell_type": "code",
   "execution_count": 83,
   "id": "c9303e31",
   "metadata": {},
   "outputs": [
    {
     "data": {
      "text/plain": [
       "2826.0"
      ]
     },
     "execution_count": 83,
     "metadata": {},
     "output_type": "execute_result"
    }
   ],
   "source": [
    "c1.area"
   ]
  },
  {
   "cell_type": "code",
   "execution_count": null,
   "id": "ed74e13e",
   "metadata": {},
   "outputs": [],
   "source": []
  },
  {
   "cell_type": "code",
   "execution_count": null,
   "id": "a78fbb42",
   "metadata": {},
   "outputs": [],
   "source": []
  },
  {
   "cell_type": "code",
   "execution_count": 17,
   "id": "9f7cfc75",
   "metadata": {},
   "outputs": [
    {
     "name": "stdout",
     "output_type": "stream",
     "text": [
      "Animal created\n"
     ]
    }
   ],
   "source": [
    "# CALLED THE BASE CLASS\n",
    "\n",
    "class Animal():  \n",
    "    \n",
    "    def __init__(self):\n",
    "        \n",
    "        print(\"Animal created\")\n",
    "        \n",
    "    def who_am_i(self):\n",
    "        print(\"I'm an animal\")\n",
    "        \n",
    "    def eat(self):\n",
    "        print(\"eating\")\n",
    "        \n",
    "a1 = Animal()"
   ]
  },
  {
   "cell_type": "code",
   "execution_count": 18,
   "id": "6b5d643e",
   "metadata": {},
   "outputs": [
    {
     "data": {
      "text/plain": [
       "<__main__.Animal at 0x2529176ff40>"
      ]
     },
     "execution_count": 18,
     "metadata": {},
     "output_type": "execute_result"
    }
   ],
   "source": [
    "a1"
   ]
  },
  {
   "cell_type": "code",
   "execution_count": 20,
   "id": "83f26437",
   "metadata": {},
   "outputs": [
    {
     "name": "stdout",
     "output_type": "stream",
     "text": [
      "eating\n"
     ]
    }
   ],
   "source": [
    "a1.eat() ## dont forget the parenthesis"
   ]
  },
  {
   "cell_type": "code",
   "execution_count": 90,
   "id": "f1d71a39",
   "metadata": {},
   "outputs": [
    {
     "name": "stdout",
     "output_type": "stream",
     "text": [
      "I'm an animal\n"
     ]
    }
   ],
   "source": [
    "a1.who_am_i()"
   ]
  },
  {
   "cell_type": "code",
   "execution_count": 96,
   "id": "d0ab0ada",
   "metadata": {},
   "outputs": [],
   "source": [
    "## Inheritance\n",
    "\n",
    "class Dog(Animal):\n",
    "    \n",
    "    def __init__(self):\n",
    "        Animal.__init__(self) #ANIMAL CREATED\n",
    "        print(\"Dog created\")\n",
    "        \n",
    "    def who_am_i(self):\n",
    "        print(\"I'm a dog\")\n",
    "        "
   ]
  },
  {
   "cell_type": "code",
   "execution_count": 97,
   "id": "aa62c016",
   "metadata": {},
   "outputs": [
    {
     "name": "stdout",
     "output_type": "stream",
     "text": [
      "Animal created\n",
      "Dog created\n"
     ]
    }
   ],
   "source": [
    "d1 = Dog()"
   ]
  },
  {
   "cell_type": "code",
   "execution_count": 98,
   "id": "3d760cc5",
   "metadata": {},
   "outputs": [
    {
     "name": "stdout",
     "output_type": "stream",
     "text": [
      "I'm a dog\n"
     ]
    }
   ],
   "source": [
    "d1.who_am_i() ## overwriting the info printed, even though the method names are the same"
   ]
  },
  {
   "cell_type": "code",
   "execution_count": 106,
   "id": "6bc5ad8d",
   "metadata": {},
   "outputs": [],
   "source": [
    "## POLYMORPHISM\n",
    "\n",
    "class Dog():\n",
    "    \n",
    "    def __init__(self,name):\n",
    "        \n",
    "        self.name = name\n",
    "    def speak(self):\n",
    "        return self.name + \" and barks!\""
   ]
  },
  {
   "cell_type": "code",
   "execution_count": 107,
   "id": "cd9bd651",
   "metadata": {},
   "outputs": [],
   "source": [
    "class Cat():\n",
    "    \n",
    "    def __init__(self,name):\n",
    "        \n",
    "        self.name = name\n",
    "    def speak(self):\n",
    "        return self.name + \"and meow!\"\n",
    "    \n",
    "    "
   ]
  },
  {
   "cell_type": "code",
   "execution_count": 108,
   "id": "a66d79ca",
   "metadata": {},
   "outputs": [],
   "source": [
    "niko = Dog(\"niko\")\n",
    "felix = Cat(\"felix\")"
   ]
  },
  {
   "cell_type": "code",
   "execution_count": 109,
   "id": "0f16edc0",
   "metadata": {},
   "outputs": [
    {
     "data": {
      "text/plain": [
       "'niko and barks!'"
      ]
     },
     "execution_count": 109,
     "metadata": {},
     "output_type": "execute_result"
    }
   ],
   "source": [
    "niko.speak()"
   ]
  },
  {
   "cell_type": "code",
   "execution_count": 112,
   "id": "f406b9be",
   "metadata": {},
   "outputs": [
    {
     "name": "stdout",
     "output_type": "stream",
     "text": [
      "<class '__main__.Dog'>\n",
      "niko and barks!\n",
      "<class '__main__.Cat'>\n",
      "felixand meow!\n"
     ]
    }
   ],
   "source": [
    "for pet in [niko, felix]:\n",
    "    print(type(pet))\n",
    "    print((pet.speak()))"
   ]
  },
  {
   "cell_type": "code",
   "execution_count": 113,
   "id": "84dcd137",
   "metadata": {},
   "outputs": [],
   "source": [
    "def pet_speak(pet):\n",
    "    print(pet.speak())"
   ]
  },
  {
   "cell_type": "code",
   "execution_count": 114,
   "id": "eea69f10",
   "metadata": {},
   "outputs": [
    {
     "name": "stdout",
     "output_type": "stream",
     "text": [
      "niko and barks!\n"
     ]
    }
   ],
   "source": [
    "pet_speak(niko)"
   ]
  },
  {
   "cell_type": "code",
   "execution_count": null,
   "id": "dfa1acd1",
   "metadata": {},
   "outputs": [],
   "source": [
    "\n"
   ]
  },
  {
   "cell_type": "code",
   "execution_count": 119,
   "id": "5e6a9ee7",
   "metadata": {},
   "outputs": [
    {
     "name": "stdout",
     "output_type": "stream",
     "text": [
      "<class '__main__.Cat'>\n"
     ]
    }
   ],
   "source": [
    "print(Cat)"
   ]
  },
  {
   "cell_type": "code",
   "execution_count": 126,
   "id": "8d19dfbf",
   "metadata": {},
   "outputs": [],
   "source": [
    "class Book():\n",
    "    \n",
    "    def __init__(self, title, author, pages):\n",
    "        self.title = title\n",
    "        self.author = author\n",
    "        self.pages = pages\n",
    "        \n",
    "    def __str__(self):\n",
    "        return f\"{self.title} by {self.author}\"\n",
    "    \n",
    "    def __len__(self):\n",
    "        return self.pages\n",
    "    "
   ]
  },
  {
   "cell_type": "code",
   "execution_count": 127,
   "id": "49ee81e6",
   "metadata": {},
   "outputs": [],
   "source": [
    "b1 = Book('Python rocks', 'Rossum', 263)"
   ]
  },
  {
   "cell_type": "code",
   "execution_count": 128,
   "id": "32177c7d",
   "metadata": {},
   "outputs": [
    {
     "name": "stdout",
     "output_type": "stream",
     "text": [
      "Python rocks by Rossum\n"
     ]
    }
   ],
   "source": [
    "print(b1) ## refer to the output when same code is passed without using__str__\n",
    "   ## prints out class __main__.classname when __str__ is not used\n"
   ]
  },
  {
   "cell_type": "code",
   "execution_count": 129,
   "id": "dc4c30db",
   "metadata": {},
   "outputs": [
    {
     "data": {
      "text/plain": [
       "263"
      ]
     },
     "execution_count": 129,
     "metadata": {},
     "output_type": "execute_result"
    }
   ],
   "source": [
    "len(b1)"
   ]
  },
  {
   "cell_type": "code",
   "execution_count": 130,
   "id": "8ec8e191",
   "metadata": {},
   "outputs": [],
   "source": [
    "## HOMEWORK ASSIGNMENT\n",
    "\n",
    "1. # fill in the class methods to accept coordinates as a pair of tuples\n",
    "    #and return the slope, distance of line"
   ]
  },
  {
   "cell_type": "code",
   "execution_count": 136,
   "id": "c69d2b19",
   "metadata": {},
   "outputs": [],
   "source": [
    "class Line():\n",
    "    \n",
    "    def __init__(self, coor1, coor2):\n",
    "        self.coor1 = coor1\n",
    "        self.coor2 = coor2\n",
    "    \n",
    "    def slope(self):\n",
    "        x1,y1 = self.coor1\n",
    "        x2,y2 = self.coor2\n",
    "        return (y2-y1)/(x2-x1)\n",
    "    \n",
    "    def distance(self):\n",
    "        \n",
    "        x1,y1 = self.coor1\n",
    "        x2,y2 = self.coor2\n",
    "        return ((y2-y1)**2 - (x2-x1)**2)"
   ]
  },
  {
   "cell_type": "code",
   "execution_count": 137,
   "id": "f61a0ef3",
   "metadata": {},
   "outputs": [],
   "source": [
    "coor1 = (3,2)\n",
    "coor2 = (4,5)"
   ]
  },
  {
   "cell_type": "code",
   "execution_count": 138,
   "id": "31dfb752",
   "metadata": {},
   "outputs": [],
   "source": [
    "l1 = Line(coor1,coor2)"
   ]
  },
  {
   "cell_type": "code",
   "execution_count": 139,
   "id": "fa0e547c",
   "metadata": {},
   "outputs": [
    {
     "data": {
      "text/plain": [
       "8"
      ]
     },
     "execution_count": 139,
     "metadata": {},
     "output_type": "execute_result"
    }
   ],
   "source": [
    "l1.distance()"
   ]
  },
  {
   "cell_type": "code",
   "execution_count": 140,
   "id": "a5ec0fad",
   "metadata": {},
   "outputs": [
    {
     "data": {
      "text/plain": [
       "3.0"
      ]
     },
     "execution_count": 140,
     "metadata": {},
     "output_type": "execute_result"
    }
   ],
   "source": [
    "l1.slope()"
   ]
  },
  {
   "cell_type": "code",
   "execution_count": 157,
   "id": "1825ed42",
   "metadata": {},
   "outputs": [],
   "source": [
    "class Cylinder:\n",
    "    \n",
    "    def __init__(self, height = 1, radius = 1):\n",
    "        \n",
    "        self.height = height\n",
    "        self.radius = radius\n",
    "    \n",
    "    def volume(self):\n",
    "        return (3.14)*(self.height)*(self.radius)**2\n",
    "    \n",
    "    def surface_area(self):\n",
    "        return 2*3.14*self.radius*(self.height+self.radius)"
   ]
  },
  {
   "cell_type": "code",
   "execution_count": 160,
   "id": "f73834ba",
   "metadata": {},
   "outputs": [],
   "source": [
    "c1 = Cylinder(2,3)"
   ]
  },
  {
   "cell_type": "code",
   "execution_count": 161,
   "id": "41fd8bb9",
   "metadata": {},
   "outputs": [
    {
     "data": {
      "text/plain": [
       "56.52"
      ]
     },
     "execution_count": 161,
     "metadata": {},
     "output_type": "execute_result"
    }
   ],
   "source": [
    "c1.volume()"
   ]
  },
  {
   "cell_type": "code",
   "execution_count": 162,
   "id": "0170422f",
   "metadata": {},
   "outputs": [
    {
     "data": {
      "text/plain": [
       "94.2"
      ]
     },
     "execution_count": 162,
     "metadata": {},
     "output_type": "execute_result"
    }
   ],
   "source": [
    "c1.surface_area()"
   ]
  },
  {
   "cell_type": "code",
   "execution_count": 163,
   "id": "90a8276f",
   "metadata": {},
   "outputs": [
    {
     "data": {
      "text/plain": [
       "(12.56, 18.84)"
      ]
     },
     "execution_count": 163,
     "metadata": {},
     "output_type": "execute_result"
    }
   ],
   "source": [
    "3.14*4, 3.14*2*3"
   ]
  },
  {
   "cell_type": "code",
   "execution_count": null,
   "id": "15121205",
   "metadata": {},
   "outputs": [],
   "source": [
    "class Simple():\n",
    "    \n",
    "    def __init__(self, value):\n",
    "        \n",
    "        self.value = value\n",
    "        \n",
    "    def add_to_value(self, amount):\n",
    "        self.value = self.value + amount\n",
    "        "
   ]
  },
  {
   "cell_type": "code",
   "execution_count": null,
   "id": "46001ce1",
   "metadata": {},
   "outputs": [],
   "source": []
  },
  {
   "cell_type": "code",
   "execution_count": null,
   "id": "83dcf455",
   "metadata": {},
   "outputs": [],
   "source": []
  },
  {
   "cell_type": "code",
   "execution_count": null,
   "id": "09a5855a",
   "metadata": {},
   "outputs": [],
   "source": []
  },
  {
   "cell_type": "code",
   "execution_count": 164,
   "id": "aed1edf2",
   "metadata": {},
   "outputs": [],
   "source": [
    "## CREATE A BANK ACC WITH 2 ATTRIBUTES:\n",
    "    # Owner\n",
    "    # Balance\n",
    "## AND TWO METHODS:\n",
    "    # Deposit\n",
    "    # Withdraw\n",
    "## Added req : withdrawls cannot exceed avail bal"
   ]
  },
  {
   "cell_type": "code",
   "execution_count": 165,
   "id": "34a23e98",
   "metadata": {},
   "outputs": [],
   "source": [
    "class BankAcc:\n",
    "    \n",
    "    def __init__(self, owner, balance):\n",
    "        \n",
    "        self.owner = owner\n",
    "        self.balance = balance\n",
    "        \n",
    "    def __str__(self):\n",
    "        \n",
    "        return f\"Account owner : {self.owner}, Balance : {self.balance}\"\n",
    "        \n",
    "    def deposit(self, amount):\n",
    "        \n",
    "        self.balance = self.balance + amount\n",
    "        return f\"Amount deposited, Current balance: {self.balance}\"\n",
    "        \n",
    "    def withdraw(self, amount):\n",
    "        \n",
    "        if self.balance > amount:\n",
    "            \n",
    "            self.balance = (self.balance - amount)\n",
    "            return f\"Amount withdrawn, current balance: {self.balance}\"\n",
    "        \n",
    "        else:\n",
    "            return f\"No sufficient balance\"\n",
    "    \n"
   ]
  },
  {
   "cell_type": "code",
   "execution_count": 166,
   "id": "78bc436d",
   "metadata": {},
   "outputs": [],
   "source": [
    "acc1 = BankAcc(\"Leo\", 1000)"
   ]
  },
  {
   "cell_type": "code",
   "execution_count": 168,
   "id": "425ef8d5",
   "metadata": {},
   "outputs": [
    {
     "name": "stdout",
     "output_type": "stream",
     "text": [
      "Account owner : Leo, Balance : 1000\n"
     ]
    }
   ],
   "source": [
    "print(acc1)"
   ]
  },
  {
   "cell_type": "code",
   "execution_count": 169,
   "id": "6bac5786",
   "metadata": {},
   "outputs": [
    {
     "data": {
      "text/plain": [
       "'Amount deposited, Current balance: 1300'"
      ]
     },
     "execution_count": 169,
     "metadata": {},
     "output_type": "execute_result"
    }
   ],
   "source": [
    "acc1.deposit(300)"
   ]
  },
  {
   "cell_type": "code",
   "execution_count": 170,
   "id": "a3114207",
   "metadata": {},
   "outputs": [
    {
     "data": {
      "text/plain": [
       "'Amount withdrawn, current balance: 800'"
      ]
     },
     "execution_count": 170,
     "metadata": {},
     "output_type": "execute_result"
    }
   ],
   "source": [
    "acc1.withdraw(500)"
   ]
  },
  {
   "cell_type": "code",
   "execution_count": 171,
   "id": "38d1d7ad",
   "metadata": {},
   "outputs": [
    {
     "data": {
      "text/plain": [
       "'No sufficient balance'"
      ]
     },
     "execution_count": 171,
     "metadata": {},
     "output_type": "execute_result"
    }
   ],
   "source": [
    "acc1.withdraw(1000)"
   ]
  },
  {
   "cell_type": "code",
   "execution_count": null,
   "id": "6edf1989",
   "metadata": {},
   "outputs": [],
   "source": []
  },
  {
   "cell_type": "code",
   "execution_count": null,
   "id": "3943fc73",
   "metadata": {},
   "outputs": [],
   "source": []
  },
  {
   "cell_type": "code",
   "execution_count": 172,
   "id": "2d910dfc",
   "metadata": {},
   "outputs": [],
   "source": [
    "### MODULES AND PACKAGES \n",
    "\n",
    "    #VS CODE"
   ]
  },
  {
   "cell_type": "code",
   "execution_count": null,
   "id": "cbb82e07",
   "metadata": {},
   "outputs": [],
   "source": []
  },
  {
   "cell_type": "code",
   "execution_count": 173,
   "id": "3a36ce94",
   "metadata": {},
   "outputs": [],
   "source": [
    "### ERRORS AND ERROR HANDLING"
   ]
  },
  {
   "cell_type": "code",
   "execution_count": 174,
   "id": "e6168a35",
   "metadata": {},
   "outputs": [],
   "source": [
    "def add(n1,n2):\n",
    "    print(n1+n2)"
   ]
  },
  {
   "cell_type": "code",
   "execution_count": 175,
   "id": "3dafa850",
   "metadata": {},
   "outputs": [
    {
     "name": "stdout",
     "output_type": "stream",
     "text": [
      "30\n"
     ]
    }
   ],
   "source": [
    "add(10,20)"
   ]
  },
  {
   "cell_type": "code",
   "execution_count": 176,
   "id": "a25e53c0",
   "metadata": {},
   "outputs": [
    {
     "ename": "TypeError",
     "evalue": "unsupported operand type(s) for +: 'int' and 'str'",
     "output_type": "error",
     "traceback": [
      "\u001b[1;31m---------------------------------------------------------------------------\u001b[0m",
      "\u001b[1;31mTypeError\u001b[0m                                 Traceback (most recent call last)",
      "\u001b[1;32m~\\AppData\\Local\\Temp/ipykernel_25264/678131415.py\u001b[0m in \u001b[0;36m<module>\u001b[1;34m\u001b[0m\n\u001b[1;32m----> 1\u001b[1;33m \u001b[0madd\u001b[0m\u001b[1;33m(\u001b[0m\u001b[1;36m10\u001b[0m\u001b[1;33m,\u001b[0m\u001b[1;34m'1'\u001b[0m\u001b[1;33m)\u001b[0m\u001b[1;33m\u001b[0m\u001b[1;33m\u001b[0m\u001b[0m\n\u001b[0m",
      "\u001b[1;32m~\\AppData\\Local\\Temp/ipykernel_25264/620513249.py\u001b[0m in \u001b[0;36madd\u001b[1;34m(n1, n2)\u001b[0m\n\u001b[0;32m      1\u001b[0m \u001b[1;32mdef\u001b[0m \u001b[0madd\u001b[0m\u001b[1;33m(\u001b[0m\u001b[0mn1\u001b[0m\u001b[1;33m,\u001b[0m\u001b[0mn2\u001b[0m\u001b[1;33m)\u001b[0m\u001b[1;33m:\u001b[0m\u001b[1;33m\u001b[0m\u001b[1;33m\u001b[0m\u001b[0m\n\u001b[1;32m----> 2\u001b[1;33m     \u001b[0mprint\u001b[0m\u001b[1;33m(\u001b[0m\u001b[0mn1\u001b[0m\u001b[1;33m+\u001b[0m\u001b[0mn2\u001b[0m\u001b[1;33m)\u001b[0m\u001b[1;33m\u001b[0m\u001b[1;33m\u001b[0m\u001b[0m\n\u001b[0m",
      "\u001b[1;31mTypeError\u001b[0m: unsupported operand type(s) for +: 'int' and 'str'"
     ]
    }
   ],
   "source": [
    "add(10,'1') #TypeError"
   ]
  },
  {
   "cell_type": "code",
   "execution_count": 179,
   "id": "c313cbac",
   "metadata": {},
   "outputs": [
    {
     "name": "stdout",
     "output_type": "stream",
     "text": [
      "add went well\n",
      "20\n"
     ]
    }
   ],
   "source": [
    "try:\n",
    "    #WANT TO ATTEMPT THIS CODE, BUT COULD\n",
    "    #   GIVE OUT AN ERROR\n",
    "    \n",
    "    result = 10+10\n",
    "    \n",
    "except:\n",
    "    print(\"Looks like there's an error\")\n",
    "else:\n",
    "    print(\"add went well\")\n",
    "    print(result)"
   ]
  },
  {
   "cell_type": "code",
   "execution_count": 183,
   "id": "22a694ae",
   "metadata": {},
   "outputs": [
    {
     "name": "stdout",
     "output_type": "stream",
     "text": [
      "I always run\n"
     ]
    }
   ],
   "source": [
    "try:\n",
    "    f = open('testfile', 'w') #trying to write to a read-only file\n",
    "    f.write(\"Write a test line\")\n",
    "    \n",
    "except TypeError:\n",
    "    print(\"Type Error occured, do something!\")\n",
    "except :\n",
    "    print(\"All other exceptions!\")\n",
    "    \n",
    "finally:\n",
    "    print(\"I always run\")\n",
    "    "
   ]
  },
  {
   "cell_type": "code",
   "execution_count": 188,
   "id": "1f1c1b77",
   "metadata": {},
   "outputs": [],
   "source": [
    "def ask_for_int():\n",
    "    while True:\n",
    "        try:\n",
    "            result = int(input(\"Please enter a number : \"))\n",
    "\n",
    "        except:\n",
    "            print(\"whoops, not a number!\")\n",
    "            continue\n",
    "\n",
    "        else:\n",
    "            print(\"yes, thank you\")\n",
    "            break\n",
    "\n",
    "        finally:\n",
    "            print(\"End of try/except/finally\")"
   ]
  },
  {
   "cell_type": "code",
   "execution_count": 185,
   "id": "be573ca1",
   "metadata": {},
   "outputs": [
    {
     "name": "stdout",
     "output_type": "stream",
     "text": [
      "Please enter a number : 10\n",
      "End of try/except/finally\n"
     ]
    }
   ],
   "source": [
    "ask_for_int()"
   ]
  },
  {
   "cell_type": "code",
   "execution_count": 190,
   "id": "5b56dd7d",
   "metadata": {},
   "outputs": [
    {
     "name": "stdout",
     "output_type": "stream",
     "text": [
      "Please enter a number : absdds\n",
      "whoops, not a number!\n",
      "End of try/except/finally\n",
      "Please enter a number : alsjd\n",
      "whoops, not a number!\n",
      "End of try/except/finally\n",
      "Please enter a number : alkdh\n",
      "whoops, not a number!\n",
      "End of try/except/finally\n",
      "Please enter a number : 1\n",
      "yes, thank you\n",
      "End of try/except/finally\n"
     ]
    }
   ],
   "source": [
    "ask_for_int()"
   ]
  },
  {
   "cell_type": "code",
   "execution_count": 193,
   "id": "5d45b766",
   "metadata": {},
   "outputs": [],
   "source": [
    "### UNIT TESTING\n",
    "\n",
    "    #pylint, unittest\n",
    "    #IN VS CODE\n",
    "    "
   ]
  },
  {
   "cell_type": "code",
   "execution_count": null,
   "id": "c058da6f",
   "metadata": {},
   "outputs": [],
   "source": []
  },
  {
   "cell_type": "code",
   "execution_count": null,
   "id": "5bb2700f",
   "metadata": {},
   "outputs": [],
   "source": []
  },
  {
   "cell_type": "code",
   "execution_count": 192,
   "id": "b1b0a246",
   "metadata": {},
   "outputs": [],
   "source": [
    "### PYTHON REVISION"
   ]
  },
  {
   "cell_type": "code",
   "execution_count": 194,
   "id": "f0252062",
   "metadata": {},
   "outputs": [],
   "source": [
    "        ## String\n",
    "    "
   ]
  },
  {
   "cell_type": "code",
   "execution_count": 21,
   "id": "9e21e53a",
   "metadata": {},
   "outputs": [
    {
     "name": "stdout",
     "output_type": "stream",
     "text": [
      "hello\n"
     ]
    }
   ],
   "source": [
    "#printing out a string (no quotes seen)\n",
    "\n",
    "print(\"hello\")"
   ]
  },
  {
   "cell_type": "code",
   "execution_count": 200,
   "id": "2044212d",
   "metadata": {},
   "outputs": [
    {
     "name": "stdout",
     "output_type": "stream",
     "text": [
      "hello \n",
      " \tworld\n"
     ]
    }
   ],
   "source": [
    "print('hello \\n \\tworld')"
   ]
  },
  {
   "cell_type": "code",
   "execution_count": 201,
   "id": "6d7217cc",
   "metadata": {},
   "outputs": [
    {
     "data": {
      "text/plain": [
       "5"
      ]
     },
     "execution_count": 201,
     "metadata": {},
     "output_type": "execute_result"
    }
   ],
   "source": [
    " len('hello')"
   ]
  },
  {
   "cell_type": "code",
   "execution_count": 202,
   "id": "1a4e1f3e",
   "metadata": {},
   "outputs": [],
   "source": [
    "mystring = \"Hello world\"\n"
   ]
  },
  {
   "cell_type": "code",
   "execution_count": 210,
   "id": "ba34b15d",
   "metadata": {},
   "outputs": [
    {
     "data": {
      "text/plain": [
       "'Hello worldHello worldHello worldHello worldHello worldHello worldHello worldHello worldHello worldHello world'"
      ]
     },
     "execution_count": 210,
     "metadata": {},
     "output_type": "execute_result"
    }
   ],
   "source": [
    "mystring * 10"
   ]
  },
  {
   "cell_type": "code",
   "execution_count": 205,
   "id": "e6a688c7",
   "metadata": {},
   "outputs": [
    {
     "data": {
      "text/plain": [
       "'o'"
      ]
     },
     "execution_count": 205,
     "metadata": {},
     "output_type": "execute_result"
    }
   ],
   "source": [
    "mystring[4]"
   ]
  },
  {
   "cell_type": "code",
   "execution_count": 208,
   "id": "38e32d2f",
   "metadata": {},
   "outputs": [
    {
     "data": {
      "text/plain": [
       "('Hlowrd', 'Hello world', 'l')"
      ]
     },
     "execution_count": 208,
     "metadata": {},
     "output_type": "execute_result"
    }
   ],
   "source": [
    "mystring[0::2],mystring[0::], mystring[-2]"
   ]
  },
  {
   "cell_type": "code",
   "execution_count": 214,
   "id": "c72cf5f0",
   "metadata": {},
   "outputs": [
    {
     "data": {
      "text/plain": [
       "['Hello', 'world']"
      ]
     },
     "execution_count": 214,
     "metadata": {},
     "output_type": "execute_result"
    }
   ],
   "source": [
    "mystring.split()"
   ]
  },
  {
   "cell_type": "code",
   "execution_count": 217,
   "id": "d2a04d41",
   "metadata": {},
   "outputs": [
    {
     "data": {
      "text/plain": [
       "['Hello wo', 'ld']"
      ]
     },
     "execution_count": 217,
     "metadata": {},
     "output_type": "execute_result"
    }
   ],
   "source": [
    "mystring.split('r')"
   ]
  },
  {
   "cell_type": "code",
   "execution_count": null,
   "id": "325eef7f",
   "metadata": {},
   "outputs": [],
   "source": []
  },
  {
   "cell_type": "code",
   "execution_count": 218,
   "id": "769a239d",
   "metadata": {},
   "outputs": [],
   "source": [
    "#formatting methods :"
   ]
  },
  {
   "cell_type": "code",
   "execution_count": 219,
   "id": "87383cfc",
   "metadata": {},
   "outputs": [
    {
     "name": "stdout",
     "output_type": "stream",
     "text": [
      "This is a string inserted : INSERTED\n"
     ]
    }
   ],
   "source": [
    "print(\"This is a string inserted : {}\".format('INSERTED'))"
   ]
  },
  {
   "cell_type": "code",
   "execution_count": 222,
   "id": "dcd310ff",
   "metadata": {},
   "outputs": [
    {
     "name": "stdout",
     "output_type": "stream",
     "text": [
      "tHE fox cunn brown\n"
     ]
    }
   ],
   "source": [
    "print(\"tHE {0} {2} {1}\".format('fox', 'brown', 'cunn'))"
   ]
  },
  {
   "cell_type": "code",
   "execution_count": 223,
   "id": "95fa227b",
   "metadata": {},
   "outputs": [
    {
     "name": "stdout",
     "output_type": "stream",
     "text": [
      "tHE fox brown cunn\n"
     ]
    }
   ],
   "source": [
    "print(\"tHE {f} {b} {c}\".format(f = 'fox', b = 'brown', c = 'cunn'))"
   ]
  },
  {
   "cell_type": "code",
   "execution_count": 2,
   "id": "46b9ba2f",
   "metadata": {},
   "outputs": [
    {
     "data": {
      "text/plain": [
       "0.1287001287001287"
      ]
     },
     "execution_count": 2,
     "metadata": {},
     "output_type": "execute_result"
    }
   ],
   "source": [
    "## Float formatting\n",
    "#{value:width.precision} width = adds whitespace\n",
    "\n",
    "result = 100/777\n",
    "result"
   ]
  },
  {
   "cell_type": "code",
   "execution_count": 3,
   "id": "eae3b129",
   "metadata": {},
   "outputs": [
    {
     "name": "stdout",
     "output_type": "stream",
     "text": [
      "The result was 0.129\n"
     ]
    }
   ],
   "source": [
    "print(\"The result was {r:1.3f}\".format(r = result))"
   ]
  },
  {
   "cell_type": "code",
   "execution_count": 6,
   "id": "a936d8c9",
   "metadata": {},
   "outputs": [],
   "source": [
    "name = 'sam'\n",
    "age = 3"
   ]
  },
  {
   "cell_type": "code",
   "execution_count": 7,
   "id": "816bd38a",
   "metadata": {},
   "outputs": [
    {
     "name": "stdout",
     "output_type": "stream",
     "text": [
      "name : sam, age : 3\n"
     ]
    }
   ],
   "source": [
    "print(f'name : {name}, age : {age}')"
   ]
  },
  {
   "cell_type": "code",
   "execution_count": 22,
   "id": "3b30116e",
   "metadata": {},
   "outputs": [],
   "source": [
    "l1 = ['sam', 'pam', 1,2,3]"
   ]
  },
  {
   "cell_type": "code",
   "execution_count": 23,
   "id": "cb9e6045",
   "metadata": {},
   "outputs": [
    {
     "data": {
      "text/plain": [
       "3"
      ]
     },
     "execution_count": 23,
     "metadata": {},
     "output_type": "execute_result"
    }
   ],
   "source": [
    "l1.pop()"
   ]
  },
  {
   "cell_type": "code",
   "execution_count": 24,
   "id": "bfee520e",
   "metadata": {},
   "outputs": [
    {
     "data": {
      "text/plain": [
       "['sam', 'pam', 1, 2]"
      ]
     },
     "execution_count": 24,
     "metadata": {},
     "output_type": "execute_result"
    }
   ],
   "source": [
    "l1"
   ]
  },
  {
   "cell_type": "code",
   "execution_count": 25,
   "id": "377d1d40",
   "metadata": {},
   "outputs": [
    {
     "data": {
      "text/plain": [
       "1"
      ]
     },
     "execution_count": 25,
     "metadata": {},
     "output_type": "execute_result"
    }
   ],
   "source": [
    "l1.pop(2)"
   ]
  },
  {
   "cell_type": "code",
   "execution_count": 26,
   "id": "82da1bfc",
   "metadata": {},
   "outputs": [
    {
     "data": {
      "text/plain": [
       "['sam', 'pam', 2]"
      ]
     },
     "execution_count": 26,
     "metadata": {},
     "output_type": "execute_result"
    }
   ],
   "source": [
    "l1"
   ]
  },
  {
   "cell_type": "code",
   "execution_count": 28,
   "id": "41c6f354",
   "metadata": {},
   "outputs": [],
   "source": [
    "l1.reverse()"
   ]
  },
  {
   "cell_type": "code",
   "execution_count": 29,
   "id": "f8e9b96e",
   "metadata": {},
   "outputs": [
    {
     "data": {
      "text/plain": [
       "[2, 'pam', 'sam']"
      ]
     },
     "execution_count": 29,
     "metadata": {},
     "output_type": "execute_result"
    }
   ],
   "source": [
    "l1"
   ]
  },
  {
   "cell_type": "code",
   "execution_count": 30,
   "id": "e0b95442",
   "metadata": {},
   "outputs": [],
   "source": [
    "l1.reverse()"
   ]
  },
  {
   "cell_type": "code",
   "execution_count": 31,
   "id": "e6942bb6",
   "metadata": {},
   "outputs": [
    {
     "data": {
      "text/plain": [
       "['sam', 'pam', 2]"
      ]
     },
     "execution_count": 31,
     "metadata": {},
     "output_type": "execute_result"
    }
   ],
   "source": [
    "l1"
   ]
  },
  {
   "cell_type": "code",
   "execution_count": 33,
   "id": "c4556dc7",
   "metadata": {},
   "outputs": [],
   "source": [
    "l1.remove(2)"
   ]
  },
  {
   "cell_type": "code",
   "execution_count": 34,
   "id": "90568799",
   "metadata": {},
   "outputs": [
    {
     "data": {
      "text/plain": [
       "['sam', 'pam']"
      ]
     },
     "execution_count": 34,
     "metadata": {},
     "output_type": "execute_result"
    }
   ],
   "source": [
    "l1"
   ]
  },
  {
   "cell_type": "code",
   "execution_count": 35,
   "id": "15d6c465",
   "metadata": {},
   "outputs": [],
   "source": [
    "l1.append('a')"
   ]
  },
  {
   "cell_type": "code",
   "execution_count": 36,
   "id": "ddb907e2",
   "metadata": {},
   "outputs": [],
   "source": [
    "l1.append('c')"
   ]
  },
  {
   "cell_type": "code",
   "execution_count": 37,
   "id": "3b035f27",
   "metadata": {},
   "outputs": [],
   "source": [
    "l1.append('b')"
   ]
  },
  {
   "cell_type": "code",
   "execution_count": 38,
   "id": "a89ee81d",
   "metadata": {},
   "outputs": [
    {
     "data": {
      "text/plain": [
       "['sam', 'pam', 'a', 'c', 'b']"
      ]
     },
     "execution_count": 38,
     "metadata": {},
     "output_type": "execute_result"
    }
   ],
   "source": [
    "l1"
   ]
  },
  {
   "cell_type": "code",
   "execution_count": 39,
   "id": "f7c54ed9",
   "metadata": {},
   "outputs": [],
   "source": [
    "l1.sort()"
   ]
  },
  {
   "cell_type": "code",
   "execution_count": 40,
   "id": "48aa1173",
   "metadata": {},
   "outputs": [
    {
     "data": {
      "text/plain": [
       "['a', 'b', 'c', 'pam', 'sam']"
      ]
     },
     "execution_count": 40,
     "metadata": {},
     "output_type": "execute_result"
    }
   ],
   "source": [
    "l1"
   ]
  },
  {
   "cell_type": "code",
   "execution_count": 41,
   "id": "f8787b0d",
   "metadata": {},
   "outputs": [],
   "source": [
    "l1.append('bac')"
   ]
  },
  {
   "cell_type": "code",
   "execution_count": 42,
   "id": "c6e5b3d5",
   "metadata": {},
   "outputs": [],
   "source": [
    "l1.sort()"
   ]
  },
  {
   "cell_type": "code",
   "execution_count": 43,
   "id": "6bf02652",
   "metadata": {},
   "outputs": [
    {
     "data": {
      "text/plain": [
       "['a', 'b', 'bac', 'c', 'pam', 'sam']"
      ]
     },
     "execution_count": 43,
     "metadata": {},
     "output_type": "execute_result"
    }
   ],
   "source": [
    "l1"
   ]
  },
  {
   "cell_type": "code",
   "execution_count": 45,
   "id": "ab4ae130",
   "metadata": {},
   "outputs": [
    {
     "data": {
      "text/plain": [
       "['a', 'b', 'bac', 'bca', 'bca', 'c', 'pam', 'sam']"
      ]
     },
     "execution_count": 45,
     "metadata": {},
     "output_type": "execute_result"
    }
   ],
   "source": [
    "l1.append('bca')\n",
    "l1.sort()\n",
    "l1"
   ]
  },
  {
   "cell_type": "code",
   "execution_count": 47,
   "id": "e965cf32",
   "metadata": {},
   "outputs": [
    {
     "data": {
      "text/plain": [
       "['a', 'b', 'bac', 'bca', 'bca', 'c', 'pam', 'sam']"
      ]
     },
     "execution_count": 47,
     "metadata": {},
     "output_type": "execute_result"
    }
   ],
   "source": [
    "x = l1.copy()\n",
    "x"
   ]
  },
  {
   "cell_type": "code",
   "execution_count": 48,
   "id": "49f5bd27",
   "metadata": {},
   "outputs": [
    {
     "data": {
      "text/plain": [
       "['a', 'b', 'bac', 'bca', 'c', 'pam', 'sam']"
      ]
     },
     "execution_count": 48,
     "metadata": {},
     "output_type": "execute_result"
    }
   ],
   "source": [
    "x.pop(3)\n",
    "x"
   ]
  },
  {
   "cell_type": "code",
   "execution_count": 49,
   "id": "b109d5ba",
   "metadata": {},
   "outputs": [
    {
     "data": {
      "text/plain": [
       "['a', 'b', 'bac', 'bca', 'bca', 'c', 'pam', 'sam']"
      ]
     },
     "execution_count": 49,
     "metadata": {},
     "output_type": "execute_result"
    }
   ],
   "source": [
    "l1"
   ]
  },
  {
   "cell_type": "code",
   "execution_count": 50,
   "id": "0674d231",
   "metadata": {},
   "outputs": [
    {
     "data": {
      "text/plain": [
       "['a', 'b', 'bac', 'bca', 'c', 'pam', 'sam']"
      ]
     },
     "execution_count": 50,
     "metadata": {},
     "output_type": "execute_result"
    }
   ],
   "source": [
    "x"
   ]
  },
  {
   "cell_type": "code",
   "execution_count": 89,
   "id": "ac43b5a8",
   "metadata": {},
   "outputs": [],
   "source": [
    "class Animal():\n",
    "    \n",
    "    def __init__(self, name):\n",
    "        self.name = name\n",
    "            \n",
    "    def eat(self):\n",
    "        print(\"I can eat!\")\n",
    "        \n",
    "class Dog1(Animal):\n",
    "    \n",
    "    def __init__(self, name):\n",
    "        self.name = name\n",
    "        \n",
    "    def __str__(self):\n",
    "        name = self.name\n",
    "        return f\"Hi I'm {name}, and am a dog\"\n",
    "        \n",
    "    def eat(self):\n",
    "        super().eat()\n",
    "        print(\"I eat bones\")"
   ]
  },
  {
   "cell_type": "code",
   "execution_count": 90,
   "id": "890c5278",
   "metadata": {},
   "outputs": [],
   "source": [
    "a1 = Animal(\"Name\")"
   ]
  },
  {
   "cell_type": "code",
   "execution_count": 91,
   "id": "6dbca555",
   "metadata": {},
   "outputs": [
    {
     "name": "stdout",
     "output_type": "stream",
     "text": [
      "I can eat!\n"
     ]
    }
   ],
   "source": [
    "a1.eat()"
   ]
  },
  {
   "cell_type": "code",
   "execution_count": 92,
   "id": "b210caa5",
   "metadata": {},
   "outputs": [],
   "source": [
    "d_1 = Dog1(\"ludo\")"
   ]
  },
  {
   "cell_type": "code",
   "execution_count": 93,
   "id": "09997ca4",
   "metadata": {},
   "outputs": [
    {
     "name": "stdout",
     "output_type": "stream",
     "text": [
      "I can eat!\n",
      "I eat bones\n"
     ]
    }
   ],
   "source": [
    "d_1.eat()"
   ]
  },
  {
   "cell_type": "code",
   "execution_count": 94,
   "id": "253ca740",
   "metadata": {},
   "outputs": [
    {
     "name": "stdout",
     "output_type": "stream",
     "text": [
      "Hi I'm ludo, and am a dog\n"
     ]
    }
   ],
   "source": [
    "print(d_1)"
   ]
  },
  {
   "cell_type": "code",
   "execution_count": 95,
   "id": "853ee03e",
   "metadata": {},
   "outputs": [
    {
     "name": "stdout",
     "output_type": "stream",
     "text": [
      "I can eat!\n"
     ]
    }
   ],
   "source": [
    "a1.eat()"
   ]
  },
  {
   "cell_type": "code",
   "execution_count": 98,
   "id": "22aaaf0b",
   "metadata": {},
   "outputs": [
    {
     "data": {
      "text/plain": [
       "[1, 2, 3, 4]"
      ]
     },
     "execution_count": 98,
     "metadata": {},
     "output_type": "execute_result"
    }
   ],
   "source": [
    "m1 = [1,2]\n",
    "m2 = [3,4]\n",
    "\n",
    "m1+m2"
   ]
  },
  {
   "cell_type": "code",
   "execution_count": 99,
   "id": "0a587097",
   "metadata": {},
   "outputs": [],
   "source": [
    "a = 'abc'\n",
    "b = 'abc'"
   ]
  },
  {
   "cell_type": "code",
   "execution_count": 100,
   "id": "e5d51b86",
   "metadata": {},
   "outputs": [
    {
     "data": {
      "text/plain": [
       "True"
      ]
     },
     "execution_count": 100,
     "metadata": {},
     "output_type": "execute_result"
    }
   ],
   "source": [
    "str(a) is str(b)"
   ]
  },
  {
   "cell_type": "code",
   "execution_count": 101,
   "id": "06ab934c",
   "metadata": {},
   "outputs": [
    {
     "data": {
      "text/plain": [
       "True"
      ]
     },
     "execution_count": 101,
     "metadata": {},
     "output_type": "execute_result"
    }
   ],
   "source": [
    "str(b) is str(a)"
   ]
  },
  {
   "cell_type": "code",
   "execution_count": 104,
   "id": "188fbc03",
   "metadata": {},
   "outputs": [
    {
     "data": {
      "text/plain": [
       "True"
      ]
     },
     "execution_count": 104,
     "metadata": {},
     "output_type": "execute_result"
    }
   ],
   "source": [
    "a == b and b == a"
   ]
  },
  {
   "cell_type": "code",
   "execution_count": 105,
   "id": "ef99aa80",
   "metadata": {},
   "outputs": [],
   "source": [
    "def func(*args):\n",
    "    \n",
    "    res = sum(*args)"
   ]
  },
  {
   "cell_type": "code",
   "execution_count": 107,
   "id": "7b4be770",
   "metadata": {},
   "outputs": [
    {
     "ename": "TypeError",
     "evalue": "'int' object is not iterable",
     "output_type": "error",
     "traceback": [
      "\u001b[1;31m---------------------------------------------------------------------------\u001b[0m",
      "\u001b[1;31mTypeError\u001b[0m                                 Traceback (most recent call last)",
      "\u001b[1;32m~\\AppData\\Local\\Temp/ipykernel_1640/2327600370.py\u001b[0m in \u001b[0;36m<module>\u001b[1;34m\u001b[0m\n\u001b[1;32m----> 1\u001b[1;33m \u001b[0mfunc\u001b[0m\u001b[1;33m(\u001b[0m\u001b[1;36m1\u001b[0m\u001b[1;33m,\u001b[0m\u001b[1;36m2\u001b[0m\u001b[1;33m)\u001b[0m\u001b[1;33m\u001b[0m\u001b[1;33m\u001b[0m\u001b[0m\n\u001b[0m",
      "\u001b[1;32m~\\AppData\\Local\\Temp/ipykernel_1640/53151444.py\u001b[0m in \u001b[0;36mfunc\u001b[1;34m(*args)\u001b[0m\n\u001b[0;32m      1\u001b[0m \u001b[1;32mdef\u001b[0m \u001b[0mfunc\u001b[0m\u001b[1;33m(\u001b[0m\u001b[1;33m*\u001b[0m\u001b[0margs\u001b[0m\u001b[1;33m)\u001b[0m\u001b[1;33m:\u001b[0m\u001b[1;33m\u001b[0m\u001b[1;33m\u001b[0m\u001b[0m\n\u001b[0;32m      2\u001b[0m \u001b[1;33m\u001b[0m\u001b[0m\n\u001b[1;32m----> 3\u001b[1;33m     \u001b[0mres\u001b[0m \u001b[1;33m=\u001b[0m \u001b[0msum\u001b[0m\u001b[1;33m(\u001b[0m\u001b[1;33m*\u001b[0m\u001b[0margs\u001b[0m\u001b[1;33m)\u001b[0m\u001b[1;33m\u001b[0m\u001b[1;33m\u001b[0m\u001b[0m\n\u001b[0m",
      "\u001b[1;31mTypeError\u001b[0m: 'int' object is not iterable"
     ]
    }
   ],
   "source": [
    "func(1,2)"
   ]
  },
  {
   "cell_type": "code",
   "execution_count": 115,
   "id": "03ab6027",
   "metadata": {},
   "outputs": [],
   "source": [
    "def Max(*args, **kwargs):\n",
    "    \n",
    "    numbers = []\n",
    "    \n",
    "    for arg in args:\n",
    "        if isinstance((args), (int,float)):\n",
    "            numbers.append(arg)\n",
    "    for val in kwargs:\n",
    "        \n",
    "        if isinstance((val), (int,float)):\n",
    "            numbers.append(val)\n",
    "        \n",
    "    return numbers\n"
   ]
  },
  {
   "cell_type": "code",
   "execution_count": 116,
   "id": "4526c9d9",
   "metadata": {},
   "outputs": [
    {
     "data": {
      "text/plain": [
       "[]"
      ]
     },
     "execution_count": 116,
     "metadata": {},
     "output_type": "execute_result"
    }
   ],
   "source": [
    "Max(1,2,3,4, a=10)"
   ]
  },
  {
   "cell_type": "code",
   "execution_count": 132,
   "id": "22cf775d",
   "metadata": {},
   "outputs": [],
   "source": [
    "def prod_of_integers(**kwargs):\n",
    "    \n",
    "    res = 1\n",
    "    for i in kwargs.values():\n",
    "        res = res * i\n",
    "        \n",
    "    return res, kwargs\n",
    "\n"
   ]
  },
  {
   "cell_type": "code",
   "execution_count": 133,
   "id": "393ded76",
   "metadata": {},
   "outputs": [
    {
     "data": {
      "text/plain": [
       "(36, {'a': 1, 'b': 2, 'c': 3, 'd': 6})"
      ]
     },
     "execution_count": 133,
     "metadata": {},
     "output_type": "execute_result"
    }
   ],
   "source": [
    "prod_of_integers(a = 1,b = 2,c = 3, d=6)"
   ]
  },
  {
   "cell_type": "code",
   "execution_count": 135,
   "id": "c14e8568",
   "metadata": {},
   "outputs": [],
   "source": [
    "a = {1,1.0,5}\n",
    "b = {1.0,1,5}"
   ]
  },
  {
   "cell_type": "code",
   "execution_count": 137,
   "id": "724cbe78",
   "metadata": {},
   "outputs": [
    {
     "name": "stdout",
     "output_type": "stream",
     "text": [
      "{1, 5}   {1.0, 5}\n"
     ]
    }
   ],
   "source": [
    "print(a, \" \", b)\n"
   ]
  },
  {
   "cell_type": "code",
   "execution_count": 139,
   "id": "5fb313ac",
   "metadata": {},
   "outputs": [
    {
     "name": "stdout",
     "output_type": "stream",
     "text": [
      "2002 2009 2016 2023 2037 2044 2051 2058 2072 2079 2086 2093 2107 2114 2121 2128 2142 2149 2156 2163 2177 2184 2191 2198 2212 2219 2226 2233 2247 2254 2261 2268 2282 2289 2296 2303 2317 2324 2331 2338 2352 2359 2366 2373 2387 2394 2401 2408 2422 2429 2436 2443 2457 2464 2471 2478 2492 2499 2506 2513 2527 2534 2541 2548 2562 2569 2576 2583 2597 2604 2611 2618 2632 2639 2646 2653 2667 2674 2681 2688 2702 2709 2716 2723 2737 2744 2751 2758 2772 2779 2786 2793 2807 2814 2821 2828 2842 2849 2856 2863 2877 2884 2891 2898 2912 2919 2926 2933 2947 2954 2961 2968 2982 2989 2996 3003 3017 3024 3031 3038 3052 3059 3066 3073 3087 3094 3101 3108 3122 3129 3136 3143 3157 3164 3171 3178 3192 3199 "
     ]
    }
   ],
   "source": [
    "#P1\n",
    "\n",
    "low, high = 2000,3200\n",
    "\n",
    "for i in range(low,high):\n",
    "    \n",
    "    if i%7 == 0 and i%5 != 0:\n",
    "        print(i, end = ' ')\n",
    "    else:\n",
    "        continue\n",
    "        \n",
    "        \n",
    "        "
   ]
  },
  {
   "cell_type": "code",
   "execution_count": 6,
   "id": "fcdf451e",
   "metadata": {},
   "outputs": [
    {
     "data": {
      "text/plain": [
       "6"
      ]
     },
     "execution_count": 6,
     "metadata": {},
     "output_type": "execute_result"
    }
   ],
   "source": [
    "#P2\n",
    "\n",
    "def fact(n):\n",
    "    \n",
    "    if n == 0:\n",
    "        return 1\n",
    "    elif n == 1:\n",
    "        return 1\n",
    "    else:\n",
    "        res = n * fact(n-1)\n",
    "        return res  \n",
    "    \n",
    "n = 3\n",
    "fact(n)"
   ]
  },
  {
   "cell_type": "code",
   "execution_count": null,
   "id": "6727b5c8",
   "metadata": {},
   "outputs": [],
   "source": []
  }
 ],
 "metadata": {
  "kernelspec": {
   "display_name": "Python 3 (ipykernel)",
   "language": "python",
   "name": "python3"
  },
  "language_info": {
   "codemirror_mode": {
    "name": "ipython",
    "version": 3
   },
   "file_extension": ".py",
   "mimetype": "text/x-python",
   "name": "python",
   "nbconvert_exporter": "python",
   "pygments_lexer": "ipython3",
   "version": "3.9.7"
  }
 },
 "nbformat": 4,
 "nbformat_minor": 5
}

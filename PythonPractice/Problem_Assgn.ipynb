{
 "cells": [
  {
   "cell_type": "markdown",
   "id": "cb0ce5e0",
   "metadata": {},
   "source": [
    "# P1"
   ]
  },
  {
   "cell_type": "code",
   "execution_count": null,
   "id": "3dbf0f31",
   "metadata": {},
   "outputs": [],
   "source": [
    "n = int(input())"
   ]
  },
  {
   "cell_type": "code",
   "execution_count": 15,
   "id": "3eacfb66",
   "metadata": {},
   "outputs": [
    {
     "name": "stdout",
     "output_type": "stream",
     "text": [
      "1\n",
      "2\n",
      "3\n",
      "4\n"
     ]
    }
   ],
   "source": [
    "elements = []\n",
    "\n",
    "for i in range(0,n):\n",
    "    \n",
    "    element = int(input())\n",
    "    elements.append(element)\n",
    "    \n"
   ]
  },
  {
   "cell_type": "code",
   "execution_count": 16,
   "id": "221013ec",
   "metadata": {},
   "outputs": [],
   "source": [
    "def res(n, l1):\n",
    "        \n",
    "    sum_n = n*(n+1)/2\n",
    "    \n",
    "    for i in l1:\n",
    "        sum_n = sum_n - i\n",
    "        \n",
    "    print(sum_n)\n",
    "    return sum_n\n",
    "    "
   ]
  },
  {
   "cell_type": "code",
   "execution_count": 19,
   "id": "fbf68ff6",
   "metadata": {},
   "outputs": [
    {
     "name": "stdout",
     "output_type": "stream",
     "text": [
      "6\n"
     ]
    }
   ],
   "source": [
    "n = int(input())"
   ]
  },
  {
   "cell_type": "code",
   "execution_count": 20,
   "id": "e1a3403c",
   "metadata": {},
   "outputs": [
    {
     "name": "stdout",
     "output_type": "stream",
     "text": [
      "1\n",
      "2\n",
      "3\n",
      "4\n",
      "5\n"
     ]
    }
   ],
   "source": [
    "elements = []\n",
    "\n",
    "for i in range(0,n-1):\n",
    "    \n",
    "    element = int(input())\n",
    "    elements.append(element)\n",
    "    \n"
   ]
  },
  {
   "cell_type": "code",
   "execution_count": 21,
   "id": "f16228a6",
   "metadata": {},
   "outputs": [
    {
     "data": {
      "text/plain": [
       "[1, 2, 3, 4, 5]"
      ]
     },
     "execution_count": 21,
     "metadata": {},
     "output_type": "execute_result"
    }
   ],
   "source": [
    "elements"
   ]
  },
  {
   "cell_type": "code",
   "execution_count": 22,
   "id": "df495548",
   "metadata": {},
   "outputs": [
    {
     "name": "stdout",
     "output_type": "stream",
     "text": [
      "6.0\n"
     ]
    },
    {
     "data": {
      "text/plain": [
       "6.0"
      ]
     },
     "execution_count": 22,
     "metadata": {},
     "output_type": "execute_result"
    }
   ],
   "source": [
    "res(n, elements)"
   ]
  },
  {
   "cell_type": "markdown",
   "id": "417bd7f6",
   "metadata": {},
   "source": [
    "#P2 ---------------"
   ]
  },
  {
   "cell_type": "code",
   "execution_count": 37,
   "id": "53f187c8",
   "metadata": {},
   "outputs": [
    {
     "name": "stdout",
     "output_type": "stream",
     "text": [
      "elbow\n",
      "elbowed\n"
     ]
    }
   ],
   "source": [
    "str1 = str(input())\n",
    "str2 = str(input())"
   ]
  },
  {
   "cell_type": "code",
   "execution_count": 38,
   "id": "0079a415",
   "metadata": {},
   "outputs": [],
   "source": [
    "x = sorted(str1.lower())\n",
    "y = sorted(str2.lower())"
   ]
  },
  {
   "cell_type": "code",
   "execution_count": 39,
   "id": "a2a20bd4",
   "metadata": {},
   "outputs": [
    {
     "name": "stdout",
     "output_type": "stream",
     "text": [
      "Not an anagram\n"
     ]
    }
   ],
   "source": [
    "if x == y:\n",
    "    print(\"Anagram\")\n",
    "else: \n",
    "    print(\"Not an anagram\")"
   ]
  },
  {
   "cell_type": "markdown",
   "id": "2ed495df",
   "metadata": {},
   "source": [
    "P3 ----------"
   ]
  },
  {
   "cell_type": "code",
   "execution_count": 40,
   "id": "b6233a17",
   "metadata": {},
   "outputs": [],
   "source": [
    "l1 = []\n",
    "l2 = []"
   ]
  },
  {
   "cell_type": "code",
   "execution_count": 41,
   "id": "849edc1d",
   "metadata": {},
   "outputs": [
    {
     "name": "stdout",
     "output_type": "stream",
     "text": [
      "enter v1: \n",
      "1\n",
      "enter v2: \n",
      "3\n",
      "enter v1: \n",
      "3\n",
      "enter v2: \n",
      "5\n",
      "enter v1: \n",
      "1\n",
      "enter v2: \n",
      "4\n",
      "enter v1: \n",
      "5\n",
      "enter v2: \n",
      "6\n",
      "enter v1: \n",
      "5\n",
      "enter v2: \n",
      "6\n"
     ]
    }
   ],
   "source": [
    "for x in range(0,5):\n",
    "    print(\"enter v1: \")\n",
    "    l1.append(int(input()))\n",
    "    print(\"enter v2: \")\n",
    "    l2.append(int(input()))"
   ]
  },
  {
   "cell_type": "code",
   "execution_count": 42,
   "id": "eb8f6c1b",
   "metadata": {},
   "outputs": [
    {
     "data": {
      "text/plain": [
       "[1, 3, 1, 5, 5]"
      ]
     },
     "execution_count": 42,
     "metadata": {},
     "output_type": "execute_result"
    }
   ],
   "source": [
    "l1"
   ]
  },
  {
   "cell_type": "code",
   "execution_count": 43,
   "id": "d665cf44",
   "metadata": {},
   "outputs": [
    {
     "data": {
      "text/plain": [
       "[3, 5, 4, 6, 6]"
      ]
     },
     "execution_count": 43,
     "metadata": {},
     "output_type": "execute_result"
    }
   ],
   "source": [
    "l2"
   ]
  },
  {
   "cell_type": "code",
   "execution_count": 45,
   "id": "c804b3e1",
   "metadata": {},
   "outputs": [],
   "source": [
    "common = []\n",
    "\n",
    "for i in l1:\n",
    "    \n",
    "    if i in l2:\n",
    "        common.append(i)\n",
    "    else: continue"
   ]
  },
  {
   "cell_type": "code",
   "execution_count": 46,
   "id": "a311ac13",
   "metadata": {},
   "outputs": [
    {
     "data": {
      "text/plain": [
       "[3, 5, 5]"
      ]
     },
     "execution_count": 46,
     "metadata": {},
     "output_type": "execute_result"
    }
   ],
   "source": [
    "common"
   ]
  },
  {
   "cell_type": "markdown",
   "id": "3054c072",
   "metadata": {},
   "source": [
    "P4 -------------------"
   ]
  },
  {
   "cell_type": "code",
   "execution_count": 47,
   "id": "43d9e100",
   "metadata": {},
   "outputs": [],
   "source": [
    "l3 = []\n",
    "l4 = []"
   ]
  },
  {
   "cell_type": "code",
   "execution_count": 48,
   "id": "32e12cbc",
   "metadata": {},
   "outputs": [
    {
     "name": "stdout",
     "output_type": "stream",
     "text": [
      "1\n",
      "3\n",
      "5\n",
      "2\n",
      "4\n",
      "6\n"
     ]
    }
   ],
   "source": [
    "for i in range(0,3):\n",
    "    l3.append(int(input()))\n",
    "    l4.append(int(input()))"
   ]
  },
  {
   "cell_type": "code",
   "execution_count": 50,
   "id": "2fc2cf6e",
   "metadata": {},
   "outputs": [],
   "source": [
    "mydict = {}\n",
    "count = 0\n",
    "for i in l3:\n",
    "    i = str(i)\n",
    "    mydict[i] = l4[count]\n",
    "    count += 1\n",
    "    \n",
    "    "
   ]
  },
  {
   "cell_type": "code",
   "execution_count": 51,
   "id": "453b1246",
   "metadata": {},
   "outputs": [
    {
     "data": {
      "text/plain": [
       "{'1': 3, '5': 2, '4': 6}"
      ]
     },
     "execution_count": 51,
     "metadata": {},
     "output_type": "execute_result"
    }
   ],
   "source": [
    "mydict"
   ]
  },
  {
   "cell_type": "markdown",
   "id": "782473d1",
   "metadata": {},
   "source": [
    "P5 -------------------"
   ]
  },
  {
   "cell_type": "code",
   "execution_count": 61,
   "id": "cfc870c4",
   "metadata": {},
   "outputs": [
    {
     "name": "stdout",
     "output_type": "stream",
     "text": [
      " Enter the sentence: is is is the the \n"
     ]
    }
   ],
   "source": [
    "str1 = str(input(\" Enter the sentence: \"))"
   ]
  },
  {
   "cell_type": "code",
   "execution_count": 62,
   "id": "fb581351",
   "metadata": {},
   "outputs": [
    {
     "data": {
      "text/plain": [
       "'is is is the the '"
      ]
     },
     "execution_count": 62,
     "metadata": {},
     "output_type": "execute_result"
    }
   ],
   "source": [
    "str1"
   ]
  },
  {
   "cell_type": "code",
   "execution_count": 63,
   "id": "91e6ba12",
   "metadata": {},
   "outputs": [
    {
     "data": {
      "text/plain": [
       "'is is is the the '"
      ]
     },
     "execution_count": 63,
     "metadata": {},
     "output_type": "execute_result"
    }
   ],
   "source": [
    "str1.lower()"
   ]
  },
  {
   "cell_type": "code",
   "execution_count": 66,
   "id": "73534e8a",
   "metadata": {},
   "outputs": [],
   "source": [
    "x = str1.split()"
   ]
  },
  {
   "cell_type": "code",
   "execution_count": 75,
   "id": "aa30cb82",
   "metadata": {},
   "outputs": [
    {
     "ename": "KeyError",
     "evalue": "'is'",
     "output_type": "error",
     "traceback": [
      "\u001b[1;31m---------------------------------------------------------------------------\u001b[0m",
      "\u001b[1;31mKeyError\u001b[0m                                  Traceback (most recent call last)",
      "\u001b[1;32m~\\AppData\\Local\\Temp/ipykernel_20512/2270808341.py\u001b[0m in \u001b[0;36m<module>\u001b[1;34m\u001b[0m\n\u001b[0;32m      6\u001b[0m \u001b[1;33m\u001b[0m\u001b[0m\n\u001b[0;32m      7\u001b[0m     \u001b[1;32mif\u001b[0m \u001b[0mi\u001b[0m \u001b[1;32min\u001b[0m \u001b[0mx\u001b[0m\u001b[1;33m:\u001b[0m\u001b[1;33m\u001b[0m\u001b[1;33m\u001b[0m\u001b[0m\n\u001b[1;32m----> 8\u001b[1;33m         \u001b[0mfreq_dict\u001b[0m\u001b[1;33m[\u001b[0m\u001b[0mi\u001b[0m\u001b[1;33m]\u001b[0m \u001b[1;33m+=\u001b[0m \u001b[1;36m1\u001b[0m\u001b[1;33m\u001b[0m\u001b[1;33m\u001b[0m\u001b[0m\n\u001b[0m\u001b[0;32m      9\u001b[0m \u001b[1;33m\u001b[0m\u001b[0m\n\u001b[0;32m     10\u001b[0m     \u001b[1;32melse\u001b[0m\u001b[1;33m:\u001b[0m\u001b[1;33m\u001b[0m\u001b[1;33m\u001b[0m\u001b[0m\n",
      "\u001b[1;31mKeyError\u001b[0m: 'is'"
     ]
    }
   ],
   "source": [
    "freq = 0\n",
    "freq_dict = {}\n",
    "for i in x:\n",
    "    \n",
    "    i = str(i)\n",
    "    \n",
    "    if i in x:\n",
    "        freq_dict[i] += 1\n",
    "        \n",
    "    else:\n",
    "        freq_dict[i] = 1\n",
    "        "
   ]
  },
  {
   "cell_type": "markdown",
   "id": "996bb368",
   "metadata": {},
   "source": [
    "P6 -------------------------"
   ]
  },
  {
   "cell_type": "code",
   "execution_count": 72,
   "id": "cd7c686f",
   "metadata": {},
   "outputs": [],
   "source": [
    "def func(mydict):\n",
    "    \n",
    "    items = list(mydict.items())\n",
    "    items.sort(key= lambda a:a[1])\n",
    "    \n",
    "    return items\n",
    "\n",
    "mydict = {\"a\" : 0.15, \"b\" : 1, \"c\" : 1000, \"d\" : 0.0001}"
   ]
  },
  {
   "cell_type": "code",
   "execution_count": 73,
   "id": "1eab1e66",
   "metadata": {},
   "outputs": [
    {
     "data": {
      "text/plain": [
       "[('d', 0.0001), ('a', 0.15), ('b', 1), ('c', 1000)]"
      ]
     },
     "execution_count": 73,
     "metadata": {},
     "output_type": "execute_result"
    }
   ],
   "source": [
    "func(mydict)"
   ]
  },
  {
   "cell_type": "code",
   "execution_count": null,
   "id": "bc153bf2",
   "metadata": {},
   "outputs": [],
   "source": []
  }
 ],
 "metadata": {
  "kernelspec": {
   "display_name": "Python 3 (ipykernel)",
   "language": "python",
   "name": "python3"
  },
  "language_info": {
   "codemirror_mode": {
    "name": "ipython",
    "version": 3
   },
   "file_extension": ".py",
   "mimetype": "text/x-python",
   "name": "python",
   "nbconvert_exporter": "python",
   "pygments_lexer": "ipython3",
   "version": "3.9.7"
  }
 },
 "nbformat": 4,
 "nbformat_minor": 5
}

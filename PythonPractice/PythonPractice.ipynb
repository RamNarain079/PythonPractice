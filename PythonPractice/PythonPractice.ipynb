{
 "cells": [
  {
   "cell_type": "code",
   "execution_count": 1,
   "id": "814206b6",
   "metadata": {},
   "outputs": [],
   "source": [
    "def Common(l1, l2):\n",
    "    \n",
    "    common = []\n",
    "    \n",
    "    for i in l1:\n",
    "        for j in l2:\n",
    "            \n",
    "            if i == j:\n",
    "                common.append(i)\n",
    "            else:\n",
    "                continue\n",
    "                \n",
    "    return common"
   ]
  },
  {
   "cell_type": "code",
   "execution_count": 2,
   "id": "4502a924",
   "metadata": {},
   "outputs": [
    {
     "data": {
      "text/plain": [
       "[34, 99999, 1]"
      ]
     },
     "execution_count": 2,
     "metadata": {},
     "output_type": "execute_result"
    }
   ],
   "source": [
    "l1 = [10,11,12,34,99999,1]\n",
    "l2 = [34,1,99999]\n",
    "\n",
    "Common(l1,l2)"
   ]
  },
  {
   "cell_type": "markdown",
   "id": "e9cd1fbf",
   "metadata": {},
   "source": [
    "# P"
   ]
  },
  {
   "cell_type": "code",
   "execution_count": 3,
   "id": "9e6fd5cd",
   "metadata": {},
   "outputs": [],
   "source": [
    "a = [1,2,[3,4,[5,6]]]"
   ]
  },
  {
   "cell_type": "code",
   "execution_count": 4,
   "id": "0ab2add1",
   "metadata": {},
   "outputs": [
    {
     "name": "stdout",
     "output_type": "stream",
     "text": [
      "1\n",
      "2\n",
      "[3, 4, [5, 6]]\n"
     ]
    }
   ],
   "source": [
    "for i in a:\n",
    "    print(i)"
   ]
  },
  {
   "cell_type": "code",
   "execution_count": 5,
   "id": "eeeef013",
   "metadata": {},
   "outputs": [
    {
     "ename": "TypeError",
     "evalue": "object of type 'int' has no len()",
     "output_type": "error",
     "traceback": [
      "\u001b[1;31m---------------------------------------------------------------------------\u001b[0m",
      "\u001b[1;31mTypeError\u001b[0m                                 Traceback (most recent call last)",
      "\u001b[1;32m~\\AppData\\Local\\Temp/ipykernel_12128/1546936548.py\u001b[0m in \u001b[0;36m<module>\u001b[1;34m\u001b[0m\n\u001b[1;32m----> 1\u001b[1;33m \u001b[0mlen\u001b[0m\u001b[1;33m(\u001b[0m\u001b[0ma\u001b[0m\u001b[1;33m[\u001b[0m\u001b[1;36m1\u001b[0m\u001b[1;33m]\u001b[0m\u001b[1;33m)\u001b[0m\u001b[1;33m\u001b[0m\u001b[1;33m\u001b[0m\u001b[0m\n\u001b[0m",
      "\u001b[1;31mTypeError\u001b[0m: object of type 'int' has no len()"
     ]
    }
   ],
   "source": [
    "len(a[1])"
   ]
  },
  {
   "cell_type": "code",
   "execution_count": null,
   "id": "ff9e3b49",
   "metadata": {},
   "outputs": [],
   "source": [
    "x = []\n",
    "\n",
    "for i in range(len(a)):\n",
    "    try:\n",
    "        for j in range(len(a[i])):\n",
    "            try:\n",
    "                for y in range(len(a[i][j])):\n",
    "                    \n",
    "                    x.append(a[i][j][y])\n",
    "            except TypeError:\n",
    "                \n",
    "                x.append(a[i][j])\n",
    "        \n",
    "    except TypeError:\n",
    "        x.append(a[i])\n",
    "\n",
    "print(x)\n",
    "            "
   ]
  },
  {
   "cell_type": "code",
   "execution_count": null,
   "id": "e89e99ff",
   "metadata": {},
   "outputs": [],
   "source": [
    "x"
   ]
  },
  {
   "cell_type": "code",
   "execution_count": 6,
   "id": "df2d5a49",
   "metadata": {},
   "outputs": [
    {
     "ename": "TypeError",
     "evalue": "isinstance expected 2 arguments, got 1",
     "output_type": "error",
     "traceback": [
      "\u001b[1;31m---------------------------------------------------------------------------\u001b[0m",
      "\u001b[1;31mTypeError\u001b[0m                                 Traceback (most recent call last)",
      "\u001b[1;32m~\\AppData\\Local\\Temp/ipykernel_12128/712552780.py\u001b[0m in \u001b[0;36m<module>\u001b[1;34m\u001b[0m\n\u001b[1;32m----> 1\u001b[1;33m \u001b[0misinstance\u001b[0m\u001b[1;33m(\u001b[0m\u001b[0ma\u001b[0m\u001b[1;33m)\u001b[0m\u001b[1;33m\u001b[0m\u001b[1;33m\u001b[0m\u001b[0m\n\u001b[0m",
      "\u001b[1;31mTypeError\u001b[0m: isinstance expected 2 arguments, got 1"
     ]
    }
   ],
   "source": [
    "isinstance(a)"
   ]
  },
  {
   "cell_type": "code",
   "execution_count": 7,
   "id": "e68d1882",
   "metadata": {},
   "outputs": [
    {
     "data": {
      "text/plain": [
       "[1, 2, [3, 4, [5, 6]]]"
      ]
     },
     "execution_count": 7,
     "metadata": {},
     "output_type": "execute_result"
    }
   ],
   "source": [
    "a"
   ]
  },
  {
   "cell_type": "code",
   "execution_count": 8,
   "id": "42c1024d",
   "metadata": {},
   "outputs": [
    {
     "data": {
      "text/plain": [
       "3"
      ]
     },
     "execution_count": 8,
     "metadata": {},
     "output_type": "execute_result"
    }
   ],
   "source": [
    "len(a)"
   ]
  },
  {
   "cell_type": "code",
   "execution_count": 9,
   "id": "a5900215",
   "metadata": {},
   "outputs": [
    {
     "data": {
      "text/plain": [
       "False"
      ]
     },
     "execution_count": 9,
     "metadata": {},
     "output_type": "execute_result"
    }
   ],
   "source": [
    "type((a[1])) == list"
   ]
  },
  {
   "cell_type": "code",
   "execution_count": 10,
   "id": "ebec7841",
   "metadata": {},
   "outputs": [
    {
     "data": {
      "text/plain": [
       "5"
      ]
     },
     "execution_count": 10,
     "metadata": {},
     "output_type": "execute_result"
    }
   ],
   "source": [
    "6 ^ 3"
   ]
  },
  {
   "cell_type": "code",
   "execution_count": 11,
   "id": "504d974b",
   "metadata": {},
   "outputs": [
    {
     "data": {
      "text/plain": [
       "True"
      ]
     },
     "execution_count": 11,
     "metadata": {},
     "output_type": "execute_result"
    }
   ],
   "source": [
    "[1,2] in [2,[1,2]]"
   ]
  },
  {
   "cell_type": "code",
   "execution_count": 12,
   "id": "955a73a2",
   "metadata": {},
   "outputs": [],
   "source": [
    "def BMI(weight, height):\n",
    "    \"\"\" calculates the BMI where \n",
    "        weight is in kg and height in metres\"\"\"\n",
    "    return weight / height**2\n",
    "\n",
    "def bmi_evaluate(bmi_value):\n",
    "    if bmi_value < 15:\n",
    "        result = \"Very severely underweight\"\n",
    "    elif bmi_value < 16:\n",
    "        result = \"Severely underweight\"\n",
    "    elif bmi_value < 18.5:\n",
    "        result = \"Underweight\"\n",
    "    elif bmi_value < 25:\n",
    "        result = \"Normal (healthy weight)\"\n",
    "    elif bmi_value < 30:\n",
    "        result = \"Overweight\"\n",
    "    elif bmi_value < 35:\n",
    "        result = \"Obese Class I (Moderately obese)\"\n",
    "    elif bmi_value < 40:\n",
    "        result = \"Obese Class II (Severely obese)\"\n",
    "    else:\n",
    "        result = \"Obese Class III (Very severely obese)\"\n",
    "    return result"
   ]
  },
  {
   "cell_type": "code",
   "execution_count": 13,
   "id": "fb523f01",
   "metadata": {},
   "outputs": [
    {
     "data": {
      "text/plain": [
       "'Normal (healthy weight)'"
      ]
     },
     "execution_count": 13,
     "metadata": {},
     "output_type": "execute_result"
    }
   ],
   "source": [
    "x = BMI(70, 1.8)\n",
    "bmi_evaluate(x)"
   ]
  },
  {
   "cell_type": "code",
   "execution_count": 14,
   "id": "6a8678db",
   "metadata": {},
   "outputs": [],
   "source": [
    "def f(*m):\n",
    "    print(m)\n",
    "    return m"
   ]
  },
  {
   "cell_type": "code",
   "execution_count": 15,
   "id": "451a1ad9",
   "metadata": {},
   "outputs": [
    {
     "name": "stdout",
     "output_type": "stream",
     "text": [
      "(1, 2)\n"
     ]
    },
    {
     "data": {
      "text/plain": [
       "(1, 2)"
      ]
     },
     "execution_count": 15,
     "metadata": {},
     "output_type": "execute_result"
    }
   ],
   "source": [
    "x,y,z,a,b,c = 1,2,3,4,5,6\n",
    "f(x,y)"
   ]
  },
  {
   "cell_type": "code",
   "execution_count": null,
   "id": "32b1924f",
   "metadata": {},
   "outputs": [],
   "source": []
  }
 ],
 "metadata": {
  "kernelspec": {
   "display_name": "Python 3 (ipykernel)",
   "language": "python",
   "name": "python3"
  },
  "language_info": {
   "codemirror_mode": {
    "name": "ipython",
    "version": 3
   },
   "file_extension": ".py",
   "mimetype": "text/x-python",
   "name": "python",
   "nbconvert_exporter": "python",
   "pygments_lexer": "ipython3",
   "version": "3.9.7"
  }
 },
 "nbformat": 4,
 "nbformat_minor": 5
}

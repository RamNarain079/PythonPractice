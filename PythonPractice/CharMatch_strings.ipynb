{
 "cells": [
  {
   "cell_type": "code",
   "execution_count": 111,
   "id": "98e46cfe",
   "metadata": {},
   "outputs": [],
   "source": [
    "def Match(str1, str2):\n",
    "    \n",
    "    num_match = 0\n",
    "    \n",
    "    for x in str1:\n",
    "        for y in str2:        \n",
    "            \n",
    "            if x == y:\n",
    "                num_match = num_match + 1\n",
    "                break\n",
    "            else:\n",
    "                continue\n",
    "                \n",
    "    return num_match\n",
    "    "
   ]
  },
  {
   "cell_type": "code",
   "execution_count": 112,
   "id": "cbd8da42",
   "metadata": {},
   "outputs": [],
   "source": [
    "count = Match(str1,str2)"
   ]
  },
  {
   "cell_type": "code",
   "execution_count": 158,
   "id": "cb791298",
   "metadata": {},
   "outputs": [],
   "source": [
    "def charMatch(str1, str2, count):\n",
    "    \n",
    "    len1 = len(str1)\n",
    "    len2 = len(str2)\n",
    "    \n",
    "    if len1 == len2 and count == len1:\n",
    "        print(\"Char number Match\")\n",
    "        return True\n",
    "    else:\n",
    "        return False\n",
    "\n",
    "  "
   ]
  },
  {
   "cell_type": "code",
   "execution_count": 159,
   "id": "b146a431",
   "metadata": {},
   "outputs": [
    {
     "data": {
      "text/plain": [
       "3"
      ]
     },
     "execution_count": 159,
     "metadata": {},
     "output_type": "execute_result"
    }
   ],
   "source": [
    "count"
   ]
  },
  {
   "cell_type": "code",
   "execution_count": 160,
   "id": "01daa6f2",
   "metadata": {},
   "outputs": [
    {
     "data": {
      "text/plain": [
       "False"
      ]
     },
     "execution_count": 160,
     "metadata": {},
     "output_type": "execute_result"
    }
   ],
   "source": [
    "charMatch(str1, str2, count)"
   ]
  },
  {
   "cell_type": "code",
   "execution_count": 162,
   "id": "9205cc09",
   "metadata": {},
   "outputs": [],
   "source": [
    "def Test1(x):\n",
    "    if x is True:\n",
    "        print(\"Anagram\")\n",
    "        return True\n",
    "    else:\n",
    "        print(\"fail\")\n",
    "        return False"
   ]
  },
  {
   "cell_type": "code",
   "execution_count": 178,
   "id": "d1809883",
   "metadata": {},
   "outputs": [
    {
     "name": "stdout",
     "output_type": "stream",
     "text": [
      "abcd\n",
      "amda\n"
     ]
    }
   ],
   "source": [
    "str1 = input(\"\")\n",
    "str2 = input(\"\")"
   ]
  },
  {
   "cell_type": "code",
   "execution_count": 179,
   "id": "b9ab4366",
   "metadata": {},
   "outputs": [
    {
     "name": "stdout",
     "output_type": "stream",
     "text": [
      "fail\n"
     ]
    },
    {
     "data": {
      "text/plain": [
       "False"
      ]
     },
     "execution_count": 179,
     "metadata": {},
     "output_type": "execute_result"
    }
   ],
   "source": [
    "Match(str1, str2)\n",
    "charMatch(str1, str2, count)\n",
    "Test1(x)"
   ]
  },
  {
   "cell_type": "code",
   "execution_count": 180,
   "id": "0075a9c8",
   "metadata": {},
   "outputs": [],
   "source": [
    "x = Match(str1,str2) and charMatch(str1,str2, count)"
   ]
  },
  {
   "cell_type": "code",
   "execution_count": 181,
   "id": "274091ed",
   "metadata": {},
   "outputs": [
    {
     "data": {
      "text/plain": [
       "False"
      ]
     },
     "execution_count": 181,
     "metadata": {},
     "output_type": "execute_result"
    }
   ],
   "source": [
    "x"
   ]
  },
  {
   "cell_type": "code",
   "execution_count": 183,
   "id": "0995c8cf",
   "metadata": {},
   "outputs": [
    {
     "data": {
      "text/plain": [
       "3"
      ]
     },
     "execution_count": 183,
     "metadata": {},
     "output_type": "execute_result"
    }
   ],
   "source": [
    "count"
   ]
  }
 ],
 "metadata": {
  "kernelspec": {
   "display_name": "Python 3 (ipykernel)",
   "language": "python",
   "name": "python3"
  },
  "language_info": {
   "codemirror_mode": {
    "name": "ipython",
    "version": 3
   },
   "file_extension": ".py",
   "mimetype": "text/x-python",
   "name": "python",
   "nbconvert_exporter": "python",
   "pygments_lexer": "ipython3",
   "version": "3.9.7"
  }
 },
 "nbformat": 4,
 "nbformat_minor": 5
}

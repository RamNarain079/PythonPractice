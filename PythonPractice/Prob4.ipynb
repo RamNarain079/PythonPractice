{
 "cells": [
  {
   "cell_type": "markdown",
   "id": "9dba916f",
   "metadata": {},
   "source": [
    "\n",
    "# P6"
   ]
  },
  {
   "cell_type": "code",
   "execution_count": 139,
   "id": "f628dc53",
   "metadata": {},
   "outputs": [],
   "source": [
    "def func(mydict):\n",
    "    \n",
    "    items = list(mydict.items())\n",
    "    items.sort(key= lambda a:a[1])\n",
    "    \n",
    "    return items"
   ]
  },
  {
   "cell_type": "code",
   "execution_count": 140,
   "id": "27750a83",
   "metadata": {},
   "outputs": [],
   "source": [
    "mydict = {\"a\" : 2, \"b\":1 , \"c\":4}"
   ]
  },
  {
   "cell_type": "code",
   "execution_count": 141,
   "id": "d7885769",
   "metadata": {},
   "outputs": [],
   "source": [
    "l1 = list(mydict.items())"
   ]
  },
  {
   "cell_type": "code",
   "execution_count": 142,
   "id": "21ee5890",
   "metadata": {},
   "outputs": [
    {
     "data": {
      "text/plain": [
       "[('a', 2), ('b', 1), ('c', 4)]"
      ]
     },
     "execution_count": 142,
     "metadata": {},
     "output_type": "execute_result"
    }
   ],
   "source": [
    "l1"
   ]
  },
  {
   "cell_type": "code",
   "execution_count": 143,
   "id": "de697503",
   "metadata": {},
   "outputs": [
    {
     "data": {
      "text/plain": [
       "[('b', 1), ('a', 2), ('c', 4)]"
      ]
     },
     "execution_count": 143,
     "metadata": {},
     "output_type": "execute_result"
    }
   ],
   "source": [
    "func(mydict)"
   ]
  },
  {
   "cell_type": "code",
   "execution_count": 219,
   "id": "dc0016ef",
   "metadata": {},
   "outputs": [],
   "source": [
    "x = \"s\""
   ]
  },
  {
   "cell_type": "code",
   "execution_count": 220,
   "id": "fcaaa6ba",
   "metadata": {},
   "outputs": [],
   "source": [
    "mydict[x] = 4"
   ]
  },
  {
   "cell_type": "code",
   "execution_count": 216,
   "id": "b9827914",
   "metadata": {},
   "outputs": [
    {
     "name": "stdout",
     "output_type": "stream",
     "text": [
      "dict_items([('a', 2), ('b', 1), ('c', 4), ('s', 4)])\n"
     ]
    }
   ],
   "source": [
    "print(mydict.items())"
   ]
  },
  {
   "cell_type": "markdown",
   "id": "fb1f872b",
   "metadata": {},
   "source": [
    "# P5"
   ]
  },
  {
   "cell_type": "code",
   "execution_count": 324,
   "id": "30b4fdbb",
   "metadata": {},
   "outputs": [],
   "source": [
    "def wordfreq(sent):\n",
    "    \n",
    "    word_freq = {}\n",
    "    words = sent.split()\n",
    "    \n",
    "    for word in words:\n",
    "        word = word\n",
    "        \n",
    "        if word in word_freq:\n",
    "            word_freq[word] += 1\n",
    "        else:\n",
    "            word_freq[word] = 1\n",
    "    return dict(word_freq)"
   ]
  },
  {
   "cell_type": "code",
   "execution_count": 325,
   "id": "c1780d38",
   "metadata": {},
   "outputs": [
    {
     "name": "stdout",
     "output_type": "stream",
     "text": [
      "is is is the the\n"
     ]
    }
   ],
   "source": [
    "str1 = str(input())"
   ]
  },
  {
   "cell_type": "code",
   "execution_count": 326,
   "id": "b8db191e",
   "metadata": {
    "scrolled": true
   },
   "outputs": [
    {
     "data": {
      "text/plain": [
       "{'is': 3, 'the': 2}"
      ]
     },
     "execution_count": 326,
     "metadata": {},
     "output_type": "execute_result"
    }
   ],
   "source": [
    "wordfreq(str1)"
   ]
  },
  {
   "cell_type": "markdown",
   "id": "61370fee",
   "metadata": {},
   "source": [
    "# P4"
   ]
  },
  {
   "cell_type": "code",
   "execution_count": 228,
   "id": "4433407f",
   "metadata": {},
   "outputs": [],
   "source": [
    "l1_keys = []\n",
    "l1_values = []"
   ]
  },
  {
   "cell_type": "code",
   "execution_count": 229,
   "id": "cbb6cabe",
   "metadata": {},
   "outputs": [
    {
     "name": "stdout",
     "output_type": "stream",
     "text": [
      "3\n"
     ]
    }
   ],
   "source": [
    "numb = int(input())"
   ]
  },
  {
   "cell_type": "code",
   "execution_count": 261,
   "id": "c337df31",
   "metadata": {},
   "outputs": [],
   "source": [
    "l1 = []\n",
    "l2 = []"
   ]
  },
  {
   "cell_type": "code",
   "execution_count": 262,
   "id": "c0bea675",
   "metadata": {},
   "outputs": [
    {
     "name": "stdout",
     "output_type": "stream",
     "text": [
      "key 0: \n",
      "s\n",
      "value 0: \n",
      "10\n",
      "key 1: \n",
      "y\n",
      "value 1: \n",
      "20\n",
      "key 2: \n",
      "z\n",
      "value 2: \n",
      "30\n"
     ]
    }
   ],
   "source": [
    "for i in range(0,numb):\n",
    "    \n",
    "    print(f\"key {i}: \")\n",
    "    l1.append(input(\"\"))\n",
    "    \n",
    "    print(f\"value {i}: \")\n",
    "    l2.append(int(input(\"\")))"
   ]
  },
  {
   "cell_type": "code",
   "execution_count": 284,
   "id": "9b57a5e1",
   "metadata": {},
   "outputs": [
    {
     "data": {
      "text/plain": [
       "[10, 20, 30]"
      ]
     },
     "execution_count": 284,
     "metadata": {},
     "output_type": "execute_result"
    }
   ],
   "source": [
    "l2"
   ]
  },
  {
   "cell_type": "code",
   "execution_count": 285,
   "id": "59221dbe",
   "metadata": {},
   "outputs": [
    {
     "data": {
      "text/plain": [
       "['s', 'y', 'z']"
      ]
     },
     "execution_count": 285,
     "metadata": {},
     "output_type": "execute_result"
    }
   ],
   "source": [
    "l1"
   ]
  },
  {
   "cell_type": "code",
   "execution_count": 292,
   "id": "2083e242",
   "metadata": {},
   "outputs": [],
   "source": [
    "\n",
    "mydict = lambda keys,values : dict(zip(l1,l2))\n"
   ]
  },
  {
   "cell_type": "code",
   "execution_count": 293,
   "id": "de819ded",
   "metadata": {},
   "outputs": [
    {
     "data": {
      "text/plain": [
       "<function __main__.<lambda>(keys, values)>"
      ]
     },
     "execution_count": 293,
     "metadata": {},
     "output_type": "execute_result"
    }
   ],
   "source": [
    "mydict"
   ]
  },
  {
   "cell_type": "code",
   "execution_count": 298,
   "id": "b7aae9a9",
   "metadata": {},
   "outputs": [],
   "source": [
    "x = mydict(l1, l2)"
   ]
  },
  {
   "cell_type": "code",
   "execution_count": 299,
   "id": "26652789",
   "metadata": {},
   "outputs": [
    {
     "name": "stdout",
     "output_type": "stream",
     "text": [
      "{'s': 10, 'y': 20, 'z': 30}\n"
     ]
    }
   ],
   "source": [
    "print(x)"
   ]
  },
  {
   "cell_type": "markdown",
   "id": "13824537",
   "metadata": {},
   "source": [
    "# P3\n"
   ]
  },
  {
   "cell_type": "code",
   "execution_count": 320,
   "id": "868f54f3",
   "metadata": {},
   "outputs": [],
   "source": [
    "def common(list1, list2):\n",
    "    \n",
    "    lis = []\n",
    "    \n",
    "    for i in list1:\n",
    "        if i in list2:\n",
    "            print(\"match\")\n",
    "            lis.append(i)\n",
    "            \n",
    "        else:\n",
    "            continue\n",
    "    return lis\n",
    "            "
   ]
  },
  {
   "cell_type": "code",
   "execution_count": 321,
   "id": "52d49815",
   "metadata": {},
   "outputs": [
    {
     "data": {
      "text/plain": [
       "'\\nfor i in range(0,4):\\n    \\n    print(\"value {i} l1 : \")\\n    l1.append(input())\\n    print(\"value {i} l2 : \")\\n    l2.append(input())\\n    '"
      ]
     },
     "execution_count": 321,
     "metadata": {},
     "output_type": "execute_result"
    }
   ],
   "source": [
    "\"\"\"\n",
    "for i in range(0,4):\n",
    "    \n",
    "    print(\"value {i} l1 : \")\n",
    "    l1.append(input())\n",
    "    print(\"value {i} l2 : \")\n",
    "    l2.append(input())\n",
    "    \"\"\""
   ]
  },
  {
   "cell_type": "code",
   "execution_count": 322,
   "id": "b614b67f",
   "metadata": {},
   "outputs": [],
   "source": [
    "l1 = [1,2,3]\n",
    "l2 = [1,4,5]"
   ]
  },
  {
   "cell_type": "code",
   "execution_count": 323,
   "id": "edcd00a7",
   "metadata": {},
   "outputs": [
    {
     "name": "stdout",
     "output_type": "stream",
     "text": [
      "match\n"
     ]
    },
    {
     "data": {
      "text/plain": [
       "[1]"
      ]
     },
     "execution_count": 323,
     "metadata": {},
     "output_type": "execute_result"
    }
   ],
   "source": [
    "common(l1,l2)"
   ]
  },
  {
   "cell_type": "code",
   "execution_count": null,
   "id": "4b30a980",
   "metadata": {},
   "outputs": [],
   "source": []
  }
 ],
 "metadata": {
  "celltoolbar": "Raw Cell Format",
  "kernelspec": {
   "display_name": "Python 3 (ipykernel)",
   "language": "python",
   "name": "python3"
  },
  "language_info": {
   "codemirror_mode": {
    "name": "ipython",
    "version": 3
   },
   "file_extension": ".py",
   "mimetype": "text/x-python",
   "name": "python",
   "nbconvert_exporter": "python",
   "pygments_lexer": "ipython3",
   "version": "3.9.7"
  }
 },
 "nbformat": 4,
 "nbformat_minor": 5
}
